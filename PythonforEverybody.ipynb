{
  "nbformat": 4,
  "nbformat_minor": 0,
  "metadata": {
    "colab": {
      "name": "PythonforEverybody.ipynb",
      "provenance": [],
      "collapsed_sections": []
    },
    "kernelspec": {
      "name": "python3",
      "display_name": "Python 3"
    },
    "language_info": {
      "name": "python"
    }
  },
  "cells": [
    {
      "cell_type": "code",
      "metadata": {
        "id": "LvPlInu-K0Qb"
      },
      "source": [
        ""
      ],
      "execution_count": null,
      "outputs": []
    },
    {
      "cell_type": "markdown",
      "metadata": {
        "id": "J_aTm0kOK5SJ"
      },
      "source": [
        "\"It's important we tell these computers what to do vs. incresingly control our lives.\"\n",
        "\n",
        "Computers were made for one purpose - to do things for us.\n",
        "\n",
        "We need to speak their language to get what we want done.\n",
        "\n",
        "Programmers learn THE WAY OF THE PROGRAM\n",
        "\n",
        "goal- get COMPUTER to do things for u\n",
        "\n",
        "\n",
        "gaming\n",
        "mobile apps\n",
        "\n",
        "use tools within the computer to change how the computer sees the world\n",
        "\n",
        "vocab\n",
        "data mining\n",
        "data analysis\n",
        "programming = \"writing code\" == writing a sequence of instructions to the resources of the computer to meet the \n",
        "\n",
        "WHY BE A PROGRAMMER\n",
        "- To get some task done (we are the user and the programmer\n",
        "- Clean up survey data\n",
        "- Produce something for others to use == programming job, creator\n",
        "- Fix performance issues\n",
        "- Add guestbook to a site\n",
        "\n",
        "It takes a bit more training to learn to program for others or at scale\n",
        "\n",
        "THINKING FROM INSIDE THE COMPUTER\n",
        "- condiferations of resources to utilize (CPU, memory, network connection, disk drive, etc. \n",
        "   +programmers mediate between all the internal resources that this phone has that are not very smart BUT ARE HIGHLY POWERFUL and mediating that with what the user wants\n",
        "   +We USE the resources of the computer to benefit the END USER\n",
        "\n",
        "\n",
        "\n",
        "\n",
        "\n",
        "\n",
        "\n"
      ]
    },
    {
      "cell_type": "code",
      "metadata": {
        "id": "WaKM9TEr1Itu"
      },
      "source": [
        "\n",
        "Get used to it - thats how u make it happen\n",
        "\n",
        "get used to the feedback without judgment\n",
        "\n",
        "be able to count a million words as quickly as you could 20 words\n",
        "\n",
        "\n",
        "name = raw_input('Enter file:')\n",
        "handle = open(name)\n",
        "\n",
        "counts = dict()\n",
        "for line in handle:\n",
        "  words = line.split()\n",
        "  for word in words:\n",
        "    counts(word)= counts.get(word, 0) + 1\n",
        "\n",
        "bigcount = None\n",
        "bigword = None\n",
        "for word count in counts.items():\n",
        "  if bigcount is None or count > bigcount:\n",
        "    bigword = word\n",
        "    bigcount = count\n",
        "\n",
        "print(bigword, bigcount)\n",
        "\n",
        "\n",
        "\n",
        "\n"
      ],
      "execution_count": null,
      "outputs": []
    },
    {
      "cell_type": "markdown",
      "metadata": {
        "id": "8i9t_wfGwbND"
      },
      "source": [
        "Tell them what to do before they increasingly control our lives"
      ]
    }
  ]
}